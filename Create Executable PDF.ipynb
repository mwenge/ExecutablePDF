{
 "cells": [
  {
   "cell_type": "markdown",
   "id": "5c8f8fc2",
   "metadata": {},
   "source": [
    "# Create an executable PDF"
   ]
  },
  {
   "cell_type": "markdown",
   "id": "5d468ca6",
   "metadata": {},
   "source": [
    "Let's create a PDF file that you can view in a PDF viewer and that you can also run as an executable file in its own right."
   ]
  },
  {
   "cell_type": "markdown",
   "id": "1169252c",
   "metadata": {},
   "source": [
    "We're going to use 'actually portable executable', so download libcosmopolitan and we'll use that to compile a 'hello world' program for the pdf file."
   ]
  },
  {
   "cell_type": "code",
   "execution_count": null,
   "id": "cd15f637",
   "metadata": {},
   "outputs": [],
   "source": [
    "import os\n",
    "!mkdir -p cosmocc\n",
    "os.chdir('cosmocc')\n",
    "!wget https://cosmo.zip/pub/cosmocc/cosmocc.zip\n",
    "!unzip cosmocc.zip\n",
    "os.chdir('..')"
   ]
  },
  {
   "cell_type": "markdown",
   "id": "99b3ecce",
   "metadata": {},
   "source": [
    "Create a little program to embed in the pdf"
   ]
  },
  {
   "cell_type": "code",
   "execution_count": null,
   "id": "c7830307",
   "metadata": {},
   "outputs": [],
   "source": [
    "c = \"\"\"// hello.c\n",
    "#include <stdio.h>\n",
    "\n",
    "int main() {\n",
    "  printf(\"Hello from the Computer Program!\\\\n\");\n",
    "}\n",
    "\"\"\"\n",
    "outfile = open(\"hello.c\",'w')\n",
    "outfile.write(c)\n",
    "outfile.flush()"
   ]
  },
  {
   "cell_type": "code",
   "execution_count": null,
   "id": "7458c3e2",
   "metadata": {},
   "outputs": [],
   "source": [
    "!./cosmocc/bin/cosmocc -o hello hello.c"
   ]
  },
  {
   "cell_type": "markdown",
   "id": "a5fa4c4d",
   "metadata": {},
   "source": [
    "We're going to embed the executable file in an pdf object stream. The first 0x40 bytes will be the first 0x40 bytes of the 'hello' executable, then the OBJSTREAM_HEAD below, then the rest of the 'hello' executable, then OBJSTREAM_TAIL, then the rest of our valid PDF."
   ]
  },
  {
   "cell_type": "code",
   "execution_count": null,
   "id": "76769208",
   "metadata": {},
   "outputs": [],
   "source": [
    "OBJSTREAM_HEAD = \"\"\"%PDF-1.5\n",
    "1 0 obj <<\n",
    "/Length {}\n",
    ">>\n",
    "stream\n",
    "\"\"\"\n",
    "\n",
    "OBJSTREAM_TAIL = \"\"\"endstream\n",
    "endobj\n",
    "\"\"\"\n",
    "\n",
    "# Body of a minimal valid pdf.\n",
    "min_pdf = \"\"\"1 0 obj<</Type/Catalog/Pages 2 0 R>>endobj 2 0 obj<</Type/Pages/Kids[3 0 R]/Count 1>>endobj 3 0 obj<</Type/Page/MediaBox[0 0 3 3]>>endobj\n",
    "xref\n",
    "0 4\n",
    "0000000000 65535 f\n",
    "0000000010 00000 n\n",
    "0000000053 00000 n\n",
    "0000000102 00000 n\n",
    "trailer<</Size 4/Root 1 0 R>>\n",
    "startxref\n",
    "149\n",
    "%EOF\"\"\""
   ]
  },
  {
   "cell_type": "markdown",
   "id": "9aafc209",
   "metadata": {},
   "source": [
    "Construct our PDF/executable file."
   ]
  },
  {
   "cell_type": "code",
   "execution_count": 15,
   "id": "cc1fd1d2",
   "metadata": {},
   "outputs": [],
   "source": [
    "import os\n",
    "\n",
    "hfile = open(\"hello\", 'rb')\n",
    "outfile = open(\"hello.pdf\", 'wb')\n",
    "\n",
    "hfile.seek(0, 0)\n",
    "outfile.write(hfile.read(0x40))\n",
    "\n",
    "# Get the length of the length string\n",
    "stub_size = os.stat(\"hello\").st_size - 0x40\n",
    "# \n",
    "header_len = len(OBJSTREAM_HEAD) + (len(str(stub_size)) - 2)\n",
    "stream_len = stub_size - header_len\n",
    "outfile.write(OBJSTREAM_HEAD.format(stream_len).encode('utf−8'))\n",
    "\n",
    "hfile.seek(0x40+header_len, 0)\n",
    "outfile.write(hfile.read())\n",
    "outfile.write(OBJSTREAM_TAIL.encode('utf−8'))\n",
    "\n",
    "outfile.write(min_pdf.encode('utf-8'))\n",
    "\n",
    "outfile.flush()\n",
    "outfile.close()\n"
   ]
  },
  {
   "cell_type": "markdown",
   "id": "f4b5e531",
   "metadata": {},
   "source": [
    "View the pdf in a pdf viewer"
   ]
  },
  {
   "cell_type": "code",
   "execution_count": 16,
   "id": "c07496db",
   "metadata": {},
   "outputs": [],
   "source": [
    "!evince hello.pdf"
   ]
  },
  {
   "cell_type": "markdown",
   "id": "8fe5f3c2",
   "metadata": {},
   "source": [
    "Run the pdf as an executable"
   ]
  },
  {
   "cell_type": "code",
   "execution_count": 17,
   "id": "bb773eef",
   "metadata": {},
   "outputs": [
    {
     "name": "stdout",
     "output_type": "stream",
     "text": [
      "Hello from the Computer Program!\r\n"
     ]
    }
   ],
   "source": [
    "!chmod +x hello.pdf\n",
    "!./hello.pdf"
   ]
  },
  {
   "cell_type": "code",
   "execution_count": null,
   "id": "d0fb6ab9",
   "metadata": {},
   "outputs": [],
   "source": [
    "\n",
    "\n",
    "\n",
    "\n",
    "\n",
    "\n",
    "\n",
    "\n",
    "\n",
    "\n",
    "\n",
    "\n"
   ]
  }
 ],
 "metadata": {
  "kernelspec": {
   "display_name": "Python 3 (ipykernel)",
   "language": "python",
   "name": "python3"
  },
  "language_info": {
   "codemirror_mode": {
    "name": "ipython",
    "version": 3
   },
   "file_extension": ".py",
   "mimetype": "text/x-python",
   "name": "python",
   "nbconvert_exporter": "python",
   "pygments_lexer": "ipython3",
   "version": "3.10.12"
  }
 },
 "nbformat": 4,
 "nbformat_minor": 5
}
