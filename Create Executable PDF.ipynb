{
 "cells": [
  {
   "cell_type": "markdown",
   "id": "68baa8cd",
   "metadata": {},
   "source": [
    "# Create an executable PDF"
   ]
  },
  {
   "cell_type": "markdown",
   "id": "324a6113",
   "metadata": {},
   "source": [
    "Let's create a PDF file that you can view in a PDF viewer and that you can also run as an executable file in its own right."
   ]
  },
  {
   "cell_type": "markdown",
   "id": "b3bfc556",
   "metadata": {},
   "source": [
    "We're going to use 'actually portable executable', so download libcosmopolitan and we'll use that to compile a 'hello world' program for the pdf file."
   ]
  },
  {
   "cell_type": "code",
   "execution_count": null,
   "id": "78c5373c",
   "metadata": {},
   "outputs": [],
   "source": [
    "import os\n",
    "!mkdir -p cosmocc\n",
    "os.chdir('cosmocc')\n",
    "!wget https://cosmo.zip/pub/cosmocc/cosmocc.zip\n",
    "!unzip cosmocc.zip\n",
    "os.chdir('..')"
   ]
  },
  {
   "cell_type": "markdown",
   "id": "50de00b5",
   "metadata": {},
   "source": [
    "Create a little program to embed in the pdf"
   ]
  },
  {
   "cell_type": "code",
   "execution_count": 38,
   "id": "81a36f49",
   "metadata": {},
   "outputs": [],
   "source": [
    "c = \"\"\"// hello.c\n",
    "#include <stdio.h>\n",
    "\n",
    "int main() {\n",
    "  printf(\"I'm also a little Computer Program!\\\\n\");\n",
    "}\n",
    "\"\"\"\n",
    "outfile = open(\"hello.c\",'w')\n",
    "outfile.write(c)\n",
    "outfile.flush()"
   ]
  },
  {
   "cell_type": "code",
   "execution_count": 39,
   "id": "9bfc8ff4",
   "metadata": {},
   "outputs": [],
   "source": [
    "!./cosmocc/bin/cosmocc -o hello hello.c"
   ]
  },
  {
   "cell_type": "markdown",
   "id": "4d50dcbe",
   "metadata": {},
   "source": [
    "We're going to embed the executable file in an pdf object stream. The first 0x40 bytes will be the first 0x40 bytes of the 'hello' executable, then the OBJSTREAM_HEAD below, then the rest of the 'hello' executable, then OBJSTREAM_TAIL, then the rest of our valid PDF."
   ]
  },
  {
   "cell_type": "code",
   "execution_count": 40,
   "id": "aa66201a",
   "metadata": {},
   "outputs": [],
   "source": [
    "OBJSTREAM_HEAD = \"\"\"%PDF-1.5\n",
    "1 0 obj <<\n",
    "/Length {}\n",
    ">>\n",
    "stream\n",
    "\"\"\"\n",
    "\n",
    "OBJSTREAM_TAIL = \"\"\"endstream\n",
    "endobj\n",
    "\"\"\"\n",
    "\n",
    "# Body of a minimal valid pdf.\n",
    "min_pdf = \"\"\"1 0 obj<</Type/Catalog/Pages 2 0 R>>endobj 2 0 obj<</Type/Pages/Kids[3 0 R]/Count 1>>endobj \n",
    "3 0 obj<</Type/Page/MediaBox[0 0 3 3]>>Hello there I'm a PDF. endobj\n",
    "xref\n",
    "0 4\n",
    "0000000000 65535 f\n",
    "0000000010 00000 n\n",
    "0000000053 00000 n\n",
    "0000000102 00000 n\n",
    "trailer<</Size 4/Root 1 0 R>>\n",
    "startxref\n",
    "149\n",
    "%EOF\"\"\"\n",
    "\n",
    "min_text = \"\"\"1 0 obj\n",
    "  << /Type /Catalog\n",
    "     /Pages 2 0 R\n",
    "  >>\n",
    "endobj\n",
    "\n",
    "2 0 obj\n",
    "  << /Type /Pages\n",
    "     /Kids [3 0 R]\n",
    "     /Count 1\n",
    "     /MediaBox [0 0 300 144]\n",
    "  >>\n",
    "endobj\n",
    "\n",
    "3 0 obj\n",
    "  <<  /Type /Page\n",
    "      /Parent 2 0 R\n",
    "      /Resources\n",
    "       << /Font\n",
    "           << /F1\n",
    "               << /Type /Font\n",
    "                  /Subtype /Type1\n",
    "                  /BaseFont /Times-Roman\n",
    "               >>\n",
    "           >>\n",
    "       >>\n",
    "      /Contents 4 0 R\n",
    "  >>\n",
    "endobj\n",
    "\n",
    "4 0 obj\n",
    "  << /Length 55 >>\n",
    "stream\n",
    "  BT\n",
    "    /F1 18 Tf\n",
    "    0 0 Td\n",
    "    (I'm a little PDF file!) Tj\n",
    "  ET\n",
    "endstream\n",
    "endobj\n",
    "\n",
    "xref\n",
    "0 5\n",
    "0000000000 65535 f \n",
    "0000000018 00000 n \n",
    "0000000077 00000 n \n",
    "0000000178 00000 n \n",
    "0000000457 00000 n \n",
    "trailer\n",
    "  <<  /Root 1 0 R\n",
    "      /Size 5\n",
    "  >>\n",
    "startxref\n",
    "565\n",
    "%%EOF\"\"\""
   ]
  },
  {
   "cell_type": "markdown",
   "id": "1eae80b6",
   "metadata": {},
   "source": [
    "Construct our PDF/executable file."
   ]
  },
  {
   "cell_type": "code",
   "execution_count": 41,
   "id": "8c4512c2",
   "metadata": {},
   "outputs": [],
   "source": [
    "import os\n",
    "\n",
    "hfile = open(\"hello\", 'rb')\n",
    "outfile = open(\"hello.pdf\", 'wb')\n",
    "\n",
    "hfile.seek(0, 0)\n",
    "outfile.write(hfile.read(0x40))\n",
    "\n",
    "# Get the length of the length string\n",
    "stub_size = os.stat(\"hello\").st_size - 0x40\n",
    "header_len = len(OBJSTREAM_HEAD) + (len(str(stub_size)) - 2)\n",
    "stream_len = stub_size - header_len\n",
    "outfile.write(OBJSTREAM_HEAD.format(stream_len).encode('utf−8'))\n",
    "\n",
    "hfile.seek(0x40+header_len, 0)\n",
    "outfile.write(hfile.read())\n",
    "outfile.write(OBJSTREAM_TAIL.encode('utf−8'))\n",
    "\n",
    "outfile.write(min_text.encode('utf-8'))\n",
    "\n",
    "outfile.flush()\n",
    "outfile.close()\n"
   ]
  },
  {
   "cell_type": "markdown",
   "id": "e5452b58",
   "metadata": {},
   "source": [
    "View the pdf in a pdf viewer"
   ]
  },
  {
   "cell_type": "code",
   "execution_count": 42,
   "id": "7fd1c16d",
   "metadata": {},
   "outputs": [],
   "source": [
    "!evince hello.pdf"
   ]
  },
  {
   "cell_type": "markdown",
   "id": "1a28f5be",
   "metadata": {},
   "source": [
    "Run the pdf as an executable"
   ]
  },
  {
   "cell_type": "code",
   "execution_count": 43,
   "id": "913ba405",
   "metadata": {},
   "outputs": [
    {
     "name": "stdout",
     "output_type": "stream",
     "text": [
      "I'm also a little Computer Program!\r\n"
     ]
    }
   ],
   "source": [
    "!chmod +x hello.pdf\n",
    "!./hello.pdf"
   ]
  },
  {
   "cell_type": "code",
   "execution_count": null,
   "id": "9696367d",
   "metadata": {},
   "outputs": [],
   "source": [
    "\n",
    "\n",
    "\n",
    "\n",
    "\n",
    "\n",
    "\n",
    "\n",
    "\n",
    "\n",
    "\n",
    "\n"
   ]
  }
 ],
 "metadata": {
  "kernelspec": {
   "display_name": "Python 3 (ipykernel)",
   "language": "python",
   "name": "python3"
  },
  "language_info": {
   "codemirror_mode": {
    "name": "ipython",
    "version": 3
   },
   "file_extension": ".py",
   "mimetype": "text/x-python",
   "name": "python",
   "nbconvert_exporter": "python",
   "pygments_lexer": "ipython3",
   "version": "3.10.12"
  }
 },
 "nbformat": 4,
 "nbformat_minor": 5
}
